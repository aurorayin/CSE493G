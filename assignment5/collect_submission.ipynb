{
 "cells": [
  {
   "cell_type": "code",
   "execution_count": null,
   "id": "723d9625",
   "metadata": {},
   "outputs": [],
   "source": [
    "from google.colab import drive\n",
    "\n",
    "drive.mount('/content/drive')\n",
    "\n",
    "# TODO: Enter the path in your Drive of the assignment.\n",
    "# e.g. 'cse493g1/assignments/assignment5/'\n",
    "FOLDERNAME = None\n",
    "\n",
    "assert FOLDERNAME is not None, \"[!] Enter the foldername.\""
   ]
  },
  {
   "cell_type": "markdown",
   "id": "1aa70ca8",
   "metadata": {},
   "source": [
    "# Collect Submission - Zip + Generate PDF \n",
    "\n",
    "<font color=\"red\">**Note:** Remember to execute ALL notebooks' cells before this step. We won't be regrading missing cell outputs.</font>\n",
    "\n",
    "Run this notebook once you have completed all the other notebooks.\n",
    "\n",
    "It will:\n",
    "\n",
    "* Generate a zip file of your code (`.py` and `.ipynb`) called `a5_code_submission.zip`.\n",
    "* Convert all notebooks into a single PDF file called `a5_inline_submission.pdf`.\n",
    "\n",
    "If your submission for this step was successful, you should see the following display message:\n",
    "\n",
    "`### Done! Please submit a5_code_submission.zip and a5_inline_submission.pdf to Gradescope. ###`\n",
    "\n",
    "Make sure to download the zip and pdf file locally to your computer, then submit to Gradescope. Congrats on successfully completing the assignment!"
   ]
  },
  {
   "cell_type": "code",
   "execution_count": null,
   "id": "834cb401",
   "metadata": {},
   "outputs": [],
   "source": [
    "%cd /content/drive/My\\ Drive/$FOLDERNAME\n",
    "!sudo apt-get update\n",
    "!sudo apt-get install texlive-xetex texlive-fonts-recommended texlive-latex-recommended\n",
    "!pip install PyPDF2\n",
    "!bash collectSubmission.sh"
   ]
  }
 ],
 "metadata": {},
 "nbformat": 4,
 "nbformat_minor": 5
}
